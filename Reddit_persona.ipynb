{
  "nbformat": 4,
  "nbformat_minor": 0,
  "metadata": {
    "colab": {
      "provenance": []
    },
    "kernelspec": {
      "name": "python3",
      "display_name": "Python 3"
    },
    "language_info": {
      "name": "python"
    }
  },
  "cells": [
    {
      "cell_type": "code",
      "execution_count": 1,
      "metadata": {
        "colab": {
          "base_uri": "https://localhost:8080/"
        },
        "id": "iFSnYn-Ej_cs",
        "outputId": "52b0047d-cda2-4cc0-89c4-06813652bc4a"
      },
      "outputs": [
        {
          "output_type": "stream",
          "name": "stdout",
          "text": [
            "Collecting praw\n",
            "  Downloading praw-7.8.1-py3-none-any.whl.metadata (9.4 kB)\n",
            "Collecting python-dotenv\n",
            "  Downloading python_dotenv-1.1.1-py3-none-any.whl.metadata (24 kB)\n",
            "Collecting prawcore<3,>=2.4 (from praw)\n",
            "  Downloading prawcore-2.4.0-py3-none-any.whl.metadata (5.0 kB)\n",
            "Collecting update_checker>=0.18 (from praw)\n",
            "  Downloading update_checker-0.18.0-py3-none-any.whl.metadata (2.3 kB)\n",
            "Requirement already satisfied: websocket-client>=0.54.0 in /usr/local/lib/python3.11/dist-packages (from praw) (1.8.0)\n",
            "Requirement already satisfied: requests<3.0,>=2.6.0 in /usr/local/lib/python3.11/dist-packages (from prawcore<3,>=2.4->praw) (2.32.3)\n",
            "Requirement already satisfied: charset-normalizer<4,>=2 in /usr/local/lib/python3.11/dist-packages (from requests<3.0,>=2.6.0->prawcore<3,>=2.4->praw) (3.4.2)\n",
            "Requirement already satisfied: idna<4,>=2.5 in /usr/local/lib/python3.11/dist-packages (from requests<3.0,>=2.6.0->prawcore<3,>=2.4->praw) (3.10)\n",
            "Requirement already satisfied: urllib3<3,>=1.21.1 in /usr/local/lib/python3.11/dist-packages (from requests<3.0,>=2.6.0->prawcore<3,>=2.4->praw) (2.4.0)\n",
            "Requirement already satisfied: certifi>=2017.4.17 in /usr/local/lib/python3.11/dist-packages (from requests<3.0,>=2.6.0->prawcore<3,>=2.4->praw) (2025.7.9)\n",
            "Downloading praw-7.8.1-py3-none-any.whl (189 kB)\n",
            "\u001b[2K   \u001b[90m━━━━━━━━━━━━━━━━━━━━━━━━━━━━━━━━━━━━━━━━\u001b[0m \u001b[32m189.3/189.3 kB\u001b[0m \u001b[31m1.0 MB/s\u001b[0m eta \u001b[36m0:00:00\u001b[0m\n",
            "\u001b[?25hDownloading python_dotenv-1.1.1-py3-none-any.whl (20 kB)\n",
            "Downloading prawcore-2.4.0-py3-none-any.whl (17 kB)\n",
            "Downloading update_checker-0.18.0-py3-none-any.whl (7.0 kB)\n",
            "Installing collected packages: python-dotenv, update_checker, prawcore, praw\n",
            "Successfully installed praw-7.8.1 prawcore-2.4.0 python-dotenv-1.1.1 update_checker-0.18.0\n"
          ]
        }
      ],
      "source": [
        "!pip install praw python-dotenv"
      ]
    },
    {
      "cell_type": "code",
      "source": [
        "import praw\n",
        "\n",
        "client_id = \"XJksspIo9onybjJ_oNXTDA\"\n",
        "client_secret = \"Fhl...LaAlXw\"#my client secret of reddit\n",
        "user_agent = \"PersonaApp/0.1 by kinngofworld\"\n",
        "\n",
        "# Creating Reddit instance\n",
        "reddit = praw.Reddit(\n",
        "    client_id=client_id,\n",
        "    client_secret=client_secret,\n",
        "    user_agent=user_agent\n",
        ")\n"
      ],
      "metadata": {
        "id": "5SBvS2_tk2a5"
      },
      "execution_count": 2,
      "outputs": []
    },
    {
      "cell_type": "code",
      "source": [
        "def fetch_user_data(username, limit=100):\n",
        "    user = reddit.redditor(username)\n",
        "    posts = []\n",
        "    comments = []\n",
        "\n",
        "    try:\n",
        "        for post in user.submissions.new(limit=limit):\n",
        "            post_text = f\"Title: {post.title}\\nBody: {post.selftext}\\nURL: {post.url}\\n\"\n",
        "            posts.append(post_text)\n",
        "    except Exception as e:\n",
        "        print(\"Error fetching posts:\", e)\n",
        "\n",
        "    try:\n",
        "        for comment in user.comments.new(limit=limit):\n",
        "            comment_text = f\"Comment: {comment.body}\\nSubreddit: {comment.subreddit}\\n\"\n",
        "            comments.append(comment_text)\n",
        "    except Exception as e:\n",
        "        print(\"Error fetching comments:\", e)\n",
        "\n",
        "    return posts, comments\n"
      ],
      "metadata": {
        "id": "fLRa8-CTlcOj"
      },
      "execution_count": 3,
      "outputs": []
    },
    {
      "cell_type": "code",
      "source": [
        "username = \"kojied\"  # Example user\n",
        "posts, comments = fetch_user_data(username)\n",
        "\n",
        "print(f\"Total Posts: {len(posts)}\")\n",
        "print(f\"Total Comments: {len(comments)}\")\n",
        "\n",
        "print(\"\\nSample Post:\\n\", posts[0][:500])\n",
        "print(\"\\nSample Comment:\\n\", comments[0][:500])\n"
      ],
      "metadata": {
        "colab": {
          "base_uri": "https://localhost:8080/"
        },
        "id": "HUk8bctWlfl0",
        "outputId": "6ec45f28-5947-43ec-ea3e-cfd34252287f"
      },
      "execution_count": 5,
      "outputs": [
        {
          "output_type": "stream",
          "name": "stderr",
          "text": [
            "WARNING:praw:It appears that you are using PRAW in an asynchronous environment.\n",
            "It is strongly recommended to use Async PRAW: https://asyncpraw.readthedocs.io.\n",
            "See https://praw.readthedocs.io/en/latest/getting_started/multiple_instances.html#discord-bots-and-asynchronous-environments for more info.\n",
            "\n",
            "WARNING:praw:It appears that you are using PRAW in an asynchronous environment.\n",
            "It is strongly recommended to use Async PRAW: https://asyncpraw.readthedocs.io.\n",
            "See https://praw.readthedocs.io/en/latest/getting_started/multiple_instances.html#discord-bots-and-asynchronous-environments for more info.\n",
            "\n"
          ]
        },
        {
          "output_type": "stream",
          "name": "stdout",
          "text": [
            "Total Posts: 31\n",
            "Total Comments: 100\n",
            "\n",
            "Sample Post:\n",
            " Title: I feel violated by intern season\n",
            "Body: There's this bar that I frequent a few blocks away from my house. Technically different neighborhood, but generally has a mature vibe with people who like music and to dance. Today when I went to the bar and all of a sudden I felt like I was at a college basement party. I thought that I must have been hallucinating, but Then a girl pointed at me and referred to me as the old person. That's when I knew I had to get out of there.\n",
            " I was at the wrong pa\n",
            "\n",
            "Sample Comment:\n",
            " Comment: Sorry to hear that man, in the future you may want to have multiple granaries, one close to your berries/deer/fish and one for your veggies/apples/honey.\n",
            "Also I just store ale at the tavern or keep it in the brewery for this reason\n",
            "Subreddit: ManorLords\n",
            "\n"
          ]
        }
      ]
    },
    {
      "cell_type": "code",
      "source": [
        "all_text = \"\\n\\n\".join(posts + comments)  # posts/comments fetched"
      ],
      "metadata": {
        "id": "C82PD6Y_t_1v"
      },
      "execution_count": 6,
      "outputs": []
    },
    {
      "cell_type": "code",
      "source": [
        "def build_persona_prompt(username, user_text):\n",
        "    return f\"\"\"\n",
        "You are an AI profiler. Based on the following Reddit user's posts and comments, generate a detailed user persona.\n",
        "\n",
        "**Persona should include**:\n",
        "- Age group\n",
        "- Likely gender\n",
        "- Occupation or field\n",
        "- Hobbies/interests\n",
        "- Writing style or tone\n",
        "- Subreddits they frequent\n",
        "- Possible location or background\n",
        "- Notable beliefs or opinions\n",
        "\n",
        "**Important**: After each trait, cite the exact post or comment (or quote a line) that helped you decide it.\n",
        "\n",
        "### Reddit User: {username}\n",
        "### Posts & Comments:\n",
        "{user_text}\n",
        "\"\"\""
      ],
      "metadata": {
        "id": "5PqApjaAuJGN"
      },
      "execution_count": 7,
      "outputs": []
    },
    {
      "cell_type": "code",
      "source": [
        "from openai import OpenAI\n",
        "\n",
        "client = OpenAI(\n",
        "    base_url=\"https://openrouter.ai/api/v1\",\n",
        "    api_key=\"sk-or-v1-499e....c5372a26c\"  #MY DEEPSEEK R1 API KEY\n",
        ")\n",
        "\n",
        "def generate_persona_openrouter(prompt):\n",
        "    completion = client.chat.completions.create(\n",
        "        model=\"deepseek/deepseek-r1:free\",\n",
        "        messages=[\n",
        "            {\"role\": \"user\", \"content\": prompt}\n",
        "        ],\n",
        "        extra_headers={\n",
        "            \"HTTP-Referer\": \"https://github.com/Abhiudai12\",\n",
        "        }\n",
        "    )\n",
        "    return completion.choices[0].message.content\n"
      ],
      "metadata": {
        "id": "NdPa9TYGuQrS"
      },
      "execution_count": 10,
      "outputs": []
    },
    {
      "cell_type": "code",
      "source": [
        "username = \"Hungry-Move-6603\"\n",
        "user_text = \"\\n\\n\".join(posts + comments)\n",
        "prompt = build_persona_prompt(username, user_text)\n",
        "persona = generate_persona_openrouter(prompt)\n",
        "\n",
        "print(persona)\n"
      ],
      "metadata": {
        "colab": {
          "base_uri": "https://localhost:8080/"
        },
        "id": "XnZvGd5eue49",
        "outputId": "4fe185e8-fe68-4b31-a829-074a966de516"
      },
      "execution_count": 13,
      "outputs": [
        {
          "output_type": "stream",
          "name": "stdout",
          "text": [
            "### User Persona for Hungry-Move-6603  \n",
            "\n",
            "**Age Group**: **Late 20s to mid-30s**  \n",
            "**Supporting Evidence**:  \n",
            "> \"I’ve only been here [NYC] for three years as well.\" (r/newyorkcity post)  \n",
            "> Referred to as \"the old person\" by college-aged bar-goers, suggesting they are older than early 20s but still young enough to frequent nightlife.  \n",
            "\n",
            "---  \n",
            "\n",
            "**Likely Gender**: **Male**  \n",
            "**Supporting Evidence**:  \n",
            "> Gave detailed advice on improving \"conventional attractiveness\" to a male user in r/GenZ (e.g., fitness, shaving, lasik).  \n",
            "> Engaged in r/seduction with advice focused on approaching women.  \n",
            "\n",
            "---  \n",
            "\n",
            "**Occupation or Field**: **Tech Professional (iOS/visionOS Developer)**  \n",
            "**Supporting Evidence**:  \n",
            "> \"I’m an iOS developer building in visionOS.\" (r/visionosdev post)  \n",
            "> Posts about Vision Pro workflows, GitHub, terminal limitations, and Xcode (r/VisionPro).  \n",
            "> Interest in spatial computing and AI integration (e.g., ChatGPT in Vision Pro).  \n",
            "\n",
            "---  \n",
            "\n",
            "**Hobbies/Interests**:  \n",
            "- **Gaming**: Strategy games (Civilization V, Manor Lords, Project Zomboid).  \n",
            "- **Anime & Pop Culture**: OnePiece theories, Edgerunners, VR/AR integration.  \n",
            "- **Tech Innovation**: Spatial computing, NFTs (skeptical but invested), AI tools.  \n",
            "- **Urban Exploration**: NYC food spots, art galleries, subway quirks.  \n",
            "- **Gardening**: Posts about struggling with English ivy.  \n",
            "- **Personal Development**: Fitness, skincare, and fashion tips.  \n",
            "\n",
            "**Supporting Evidence**:  \n",
            "> Civ5 strategy guides, complaints about Manor Lords’ late-game content (r/civ5, r/ManorLords).  \n",
            "> \"*Imagine making 60fps videos with photos from OAI images*\" (AI/creative tech interest).  \n",
            "> Detailed NYC dining recommendations (r/FoodNYC).  \n",
            "\n",
            "---  \n",
            "\n",
            "**Writing Style or Tone**: **Analytical, reflective, and detail-oriented**. Mixes humor with structured arguments. Often poses philosophical questions.  \n",
            "**Supporting Evidence**:  \n",
            "> \"*New York City is equally adventurous to each, so who am I to judge*\" (nuanced reflection on urban transience).  \n",
            "> \"*The problem is that tithe is so op, and for some reason AI never pick it*\" (Civ5 strategy analysis).  \n",
            "\n",
            "---  \n",
            "\n",
            "**Subreddits They Frequent**:  \n",
            "- **Tech/Innovation**: r/VisionPro, r/visionosdev, r/ChatGPT, r/aivideo.  \n",
            "- **Gaming**: r/OnePiece, r/civ5, r/ManorLords, r/ProjectZomboid.  \n",
            "- **Lifestyle/Culture**: r/FoodNYC, r/AskNYC, r/GenZ, r/seduction.  \n",
            "- **Social/Political**: r/ClimateOffensive, r/Conservative (TikTok ban post), r/China (balanced take on biases).  \n",
            "\n",
            "---  \n",
            "\n",
            "**Possible Location/Background**: **Japanese immigrant living in New York City**  \n",
            "**Supporting Evidence**:  \n",
            "> \"*Source: I’m Japanese*\" (r/OnePiece comment clarifying a cultural reference).  \n",
            "> Posts about H1B visa narratives (r/AskReddit) and ESL topics.  \n",
            "> NYC-specific posts (e.g., subway humor, dining spots like \"Double Chicken Please\").  \n",
            "\n",
            "---  \n",
            "\n",
            "**Notable Beliefs/Opinions**:  \n",
            "1. **Skeptical of Corporate Power**:  \n",
            "   - Critiques H1B visa exploitation and corporate ESG performativity (\"*companies aren’t incentivized to make changes*\").  \n",
            "2. **Tech Pragmatist**:  \n",
            "   - Enthusiastic about Vision Pro but critical of its current limitations (\"*Apple wants AVP to be a work device? Where’s Xcode?*\").  \n",
            "3. **Cultural Bridge-Builder**:  \n",
            "   - Balances critiques of Western-centric narratives (OnePiece theory tying Iraq to Western hegemony) with appreciation for cross-cultural dialogue (\"*answer is somewhere in between* r/sino *and* r/China\").  \n",
            "4. **Anti-Hype/Pro-Sustainability**:  \n",
            "   - Views NFTs as a failed experiment (\"*dead*\") but retains hope for VR-driven digital scarcity. Advocates for climate action via individual ESG tracking.  \n",
            "5. **Political Centrism**:  \n",
            "   - Criticizes wealth inequality as beyond partisan divides (\"*those with wealth pitting the less fortunate against each other*\").  \n",
            "\n",
            "**Supporting Evidence**:  \n",
            "> \"*We needed a more direct way of getting ESG ratings into the mass conscience*\" (r/ClimateOffensive).  \n",
            "> \"*The NFT craze has not settled into something sustainable*\" (r/NFT comment).  \n",
            "> \"[H1B exploitation post]\" reflects firsthand immigrant experience.\n"
          ]
        }
      ]
    },
    {
      "cell_type": "code",
      "source": [
        "with open(\"Hungry-Move-6603.txt\", \"w\", encoding=\"utf-8\") as f:\n",
        "    f.write(persona)"
      ],
      "metadata": {
        "id": "v1fxbhivvWe2"
      },
      "execution_count": 15,
      "outputs": []
    }
  ]
}